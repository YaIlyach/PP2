{
 "cells": [
  {
   "cell_type": "code",
   "execution_count": 9,
   "id": "c5baee5d-af36-4dae-bbe3-8e21e64cbcd3",
   "metadata": {},
   "outputs": [],
   "source": [
    "from datetime import datetime, timedelta\n",
    "from tabulate import tabulate\n",
    "import math\n",
    "import json"
   ]
  },
  {
   "cell_type": "markdown",
   "id": "dd0be419",
   "metadata": {},
   "source": [
    "# DATETIME"
   ]
  },
  {
   "cell_type": "code",
   "execution_count": 3,
   "id": "6de1d773",
   "metadata": {},
   "outputs": [
    {
     "name": "stdout",
     "output_type": "stream",
     "text": [
      "2025-02-18 11:47:59.127020\n"
     ]
    }
   ],
   "source": [
    "print(datetime.now() + timedelta(days=5))"
   ]
  },
  {
   "cell_type": "code",
   "execution_count": 11,
   "id": "1ab14111-4009-424d-890f-d3bae1aacb9d",
   "metadata": {},
   "outputs": [
    {
     "name": "stdout",
     "output_type": "stream",
     "text": [
      "2025-02-12 11:03:39.072579\n",
      "2025-02-13 11:03:39.072744\n",
      "2025-02-14 11:03:39.072834\n"
     ]
    }
   ],
   "source": [
    "print(datetime.now() - timedelta(days=1))\n",
    "print(datetime.now())\n",
    "print(datetime.now() + timedelta(days=1))"
   ]
  },
  {
   "cell_type": "code",
   "execution_count": 12,
   "id": "e59682a0",
   "metadata": {},
   "outputs": [
    {
     "name": "stdout",
     "output_type": "stream",
     "text": [
      "2025-02-13 11:03:56\n"
     ]
    }
   ],
   "source": [
    "print(datetime.now().replace(microsecond=0))"
   ]
  },
  {
   "cell_type": "code",
   "execution_count": 22,
   "id": "dc3aeb2d-3ea8-42f9-a1a4-05a585832493",
   "metadata": {},
   "outputs": [
    {
     "name": "stdout",
     "output_type": "stream",
     "text": [
      "4:59:59.999883\n"
     ]
    },
    {
     "name": "stderr",
     "output_type": "stream",
     "text": [
      "/tmp/ipykernel_3297/372266141.py:1: DeprecationWarning: datetime.datetime.utcnow() is deprecated and scheduled for removal in a future version. Use timezone-aware objects to represent datetimes in UTC: datetime.datetime.now(datetime.UTC).\n",
      "  print(datetime.now() - datetime.utcnow())\n"
     ]
    }
   ],
   "source": [
    "print(datetime.now() - datetime.utcnow())"
   ]
  },
  {
   "cell_type": "markdown",
   "id": "c6292150-725e-4d35-8202-f264329c0e99",
   "metadata": {},
   "source": [
    "# Generators"
   ]
  },
  {
   "cell_type": "code",
   "execution_count": 24,
   "id": "bffbcec7-292a-4523-913e-a5b0cdd92c0d",
   "metadata": {},
   "outputs": [
    {
     "name": "stdout",
     "output_type": "stream",
     "text": [
      "1\n",
      "4\n",
      "9\n",
      "16\n",
      "25\n",
      "36\n"
     ]
    }
   ],
   "source": [
    "N = 6\n",
    "a = [print(x**2) for x in range(1, N+1)]"
   ]
  },
  {
   "cell_type": "code",
   "execution_count": 28,
   "id": "1ed54da9-eb7b-4b3b-bf94-fa9161cfe734",
   "metadata": {},
   "outputs": [
    {
     "name": "stdin",
     "output_type": "stream",
     "text": [
      " 6\n"
     ]
    },
    {
     "name": "stdout",
     "output_type": "stream",
     "text": [
      "0\n",
      "2\n",
      "4\n",
      "6\n"
     ]
    }
   ],
   "source": [
    "b = [print(x) if x%2==0 else x for x in range(0, int(input())+1)]"
   ]
  },
  {
   "cell_type": "code",
   "execution_count": 29,
   "id": "a82eea5e-6741-4890-beae-a088982bd54b",
   "metadata": {},
   "outputs": [
    {
     "name": "stdin",
     "output_type": "stream",
     "text": [
      " 12\n"
     ]
    },
    {
     "name": "stdout",
     "output_type": "stream",
     "text": [
      "0\n",
      "12\n"
     ]
    }
   ],
   "source": [
    "c = [print(x) if x%3==0 and x%4==0 else x for x in range(0, int(input())+1)]"
   ]
  },
  {
   "cell_type": "code",
   "execution_count": 31,
   "id": "6074b40d-f887-41f7-9fbd-1fbe5b6ab733",
   "metadata": {},
   "outputs": [
    {
     "name": "stdout",
     "output_type": "stream",
     "text": [
      "1\n",
      "4\n",
      "9\n",
      "16\n",
      "25\n"
     ]
    }
   ],
   "source": [
    "def squares(a, b):\n",
    "    for i in range(a, b+1):\n",
    "        yield i ** 2\n",
    "\n",
    "a = 1\n",
    "b = 5\n",
    "for square in squares(a, b):\n",
    "    print(square)"
   ]
  },
  {
   "cell_type": "code",
   "execution_count": 37,
   "id": "b7f58ada-775e-496b-8c38-18a4f04ac149",
   "metadata": {},
   "outputs": [
    {
     "name": "stdin",
     "output_type": "stream",
     "text": [
      " 7\n"
     ]
    },
    {
     "name": "stdout",
     "output_type": "stream",
     "text": [
      "7\n",
      "6\n",
      "5\n",
      "4\n",
      "3\n",
      "2\n",
      "1\n",
      "0\n"
     ]
    }
   ],
   "source": [
    "d = [print(x) for x in range(int(input()), -1, -1)]"
   ]
  },
  {
   "cell_type": "markdown",
   "id": "c964086a-b978-482e-99c0-94d8ed3623d1",
   "metadata": {},
   "source": [
    "# MATH"
   ]
  },
  {
   "cell_type": "code",
   "execution_count": 42,
   "id": "b9c0ada4-c279-407a-a5e7-5bd6956fc138",
   "metadata": {},
   "outputs": [
    {
     "name": "stdin",
     "output_type": "stream",
     "text": [
      "Input degree: 15\n"
     ]
    },
    {
     "name": "stdout",
     "output_type": "stream",
     "text": [
      "Output radian: 0.261799\n"
     ]
    }
   ],
   "source": [
    "print(f\"Output radian: {math.radians(int(input('Input degree:'))):.6f}\")"
   ]
  },
  {
   "cell_type": "code",
   "execution_count": 44,
   "id": "f63c8f7b-2544-4bb5-a4eb-59df0ba4c721",
   "metadata": {},
   "outputs": [
    {
     "name": "stdin",
     "output_type": "stream",
     "text": [
      "Height:  5\n",
      "Base, first value:  5\n",
      "Base, second value:  6\n"
     ]
    },
    {
     "name": "stdout",
     "output_type": "stream",
     "text": [
      "Expected Output: 27.5\n"
     ]
    }
   ],
   "source": [
    "height = int(input(\"Height: \"))\n",
    "base1 = int(input(\"Base, first value: \"))\n",
    "base2 = int(input(\"Base, second value: \"))\n",
    "\n",
    "print(f\"Expected Output: {0.5 * (base1 + base2) * height}\")"
   ]
  },
  {
   "cell_type": "code",
   "execution_count": 50,
   "id": "1f22ec76-98d5-4c1c-9498-d465342d08a4",
   "metadata": {},
   "outputs": [
    {
     "name": "stdin",
     "output_type": "stream",
     "text": [
      "Input number of sides:  4\n",
      "Input the length of a side:  25\n"
     ]
    },
    {
     "name": "stdout",
     "output_type": "stream",
     "text": [
      "The area of the polygon is: 625\n"
     ]
    }
   ],
   "source": [
    "sides = int(input(\"Input number of sides: \"))\n",
    "length = int(input(\"Input the length of a side: \"))\n",
    "print(f\"The area of the polygon is: {(sides * (length ** 2)) / (4 * math.tan(math.pi / sides)):.0f}\")"
   ]
  },
  {
   "cell_type": "code",
   "execution_count": 51,
   "id": "e69534fd-6169-428b-8c6c-d2994b8ee541",
   "metadata": {},
   "outputs": [
    {
     "name": "stdin",
     "output_type": "stream",
     "text": [
      "Length of base: 6\n",
      "Height of parallelogram: 5\n"
     ]
    },
    {
     "name": "stdout",
     "output_type": "stream",
     "text": [
      "Expected Output: 30\n"
     ]
    }
   ],
   "source": [
    "length = int(input(\"Length of base:\"))\n",
    "height = int(input(\"Height of parallelogram:\"))\n",
    "\n",
    "print(f\"Expected Output: {length * height}\")"
   ]
  },
  {
   "cell_type": "markdown",
   "id": "097e2ed4-1e0e-42cd-b3af-a01dd5b4ba9e",
   "metadata": {},
   "source": [
    "# JSON"
   ]
  },
  {
   "cell_type": "code",
   "execution_count": 15,
   "id": "19bd7a02-cc6e-4858-9859-19acf3fa9214",
   "metadata": {},
   "outputs": [
    {
     "name": "stdout",
     "output_type": "stream",
     "text": [
      "+--------------------------------------------+---------------+---------+-------+\n",
      "| DN                                         | Description   | Speed   |   MTU |\n",
      "+============================================+===============+=========+=======+\n",
      "| topology/pod-1/node-201/sys/phys-[eth1/33] |               | inherit |  9150 |\n",
      "+--------------------------------------------+---------------+---------+-------+\n",
      "| topology/pod-1/node-201/sys/phys-[eth1/34] |               | inherit |  9150 |\n",
      "+--------------------------------------------+---------------+---------+-------+\n",
      "| topology/pod-1/node-201/sys/phys-[eth1/35] |               | inherit |  9150 |\n",
      "+--------------------------------------------+---------------+---------+-------+\n",
      "| topology/pod-1/node-201/sys/phys-[eth1/36] |               | inherit |  9150 |\n",
      "+--------------------------------------------+---------------+---------+-------+\n",
      "| topology/pod-1/node-201/sys/phys-[eth1/1]  |               | inherit |  9150 |\n",
      "+--------------------------------------------+---------------+---------+-------+\n",
      "| topology/pod-1/node-201/sys/phys-[eth1/2]  |               | inherit |  9150 |\n",
      "+--------------------------------------------+---------------+---------+-------+\n",
      "| topology/pod-1/node-201/sys/phys-[eth1/3]  |               | inherit |  9150 |\n",
      "+--------------------------------------------+---------------+---------+-------+\n",
      "| topology/pod-1/node-201/sys/phys-[eth1/4]  |               | inherit |  9150 |\n",
      "+--------------------------------------------+---------------+---------+-------+\n",
      "| topology/pod-1/node-201/sys/phys-[eth1/5]  |               | inherit |  9150 |\n",
      "+--------------------------------------------+---------------+---------+-------+\n",
      "| topology/pod-1/node-201/sys/phys-[eth1/6]  |               | inherit |  9150 |\n",
      "+--------------------------------------------+---------------+---------+-------+\n",
      "| topology/pod-1/node-201/sys/phys-[eth1/7]  |               | inherit |  9150 |\n",
      "+--------------------------------------------+---------------+---------+-------+\n",
      "| topology/pod-1/node-201/sys/phys-[eth1/8]  |               | inherit |  9150 |\n",
      "+--------------------------------------------+---------------+---------+-------+\n",
      "| topology/pod-1/node-201/sys/phys-[eth1/9]  |               | inherit |  9150 |\n",
      "+--------------------------------------------+---------------+---------+-------+\n",
      "| topology/pod-1/node-201/sys/phys-[eth1/10] |               | inherit |  9150 |\n",
      "+--------------------------------------------+---------------+---------+-------+\n",
      "| topology/pod-1/node-201/sys/phys-[eth1/11] |               | inherit |  9150 |\n",
      "+--------------------------------------------+---------------+---------+-------+\n",
      "| topology/pod-1/node-201/sys/phys-[eth1/12] |               | inherit |  9150 |\n",
      "+--------------------------------------------+---------------+---------+-------+\n",
      "| topology/pod-1/node-201/sys/phys-[eth1/13] |               | inherit |  9150 |\n",
      "+--------------------------------------------+---------------+---------+-------+\n",
      "| topology/pod-1/node-201/sys/phys-[eth1/14] |               | inherit |  9150 |\n",
      "+--------------------------------------------+---------------+---------+-------+\n"
     ]
    }
   ],
   "source": [
    "with open('sample-data.json', 'r') as file:\n",
    "    data = json.load(file)\n",
    "result = []\n",
    "\n",
    "for interface in data[\"imdata\"]:\n",
    "    atr = interface['l1PhysIf']['attributes']\n",
    "    result.append([atr['dn'], atr['descr'], atr['fecMode'], atr['mtu']])\n",
    "\n",
    "headers = [\"DN\", \"Description\", \"Speed\", \"MTU\"]\n",
    "\n",
    "table = tabulate(result, headers, tablefmt=\"grid\")\n",
    "\n",
    "print(table)"
   ]
  },
  {
   "cell_type": "code",
   "execution_count": null,
   "id": "b83e774f-8ff5-49fa-aead-f891f97ca26e",
   "metadata": {},
   "outputs": [],
   "source": []
  }
 ],
 "metadata": {
  "kernelspec": {
   "display_name": "Python 3 (ipykernel)",
   "language": "python",
   "name": "python3"
  },
  "language_info": {
   "codemirror_mode": {
    "name": "ipython",
    "version": 3
   },
   "file_extension": ".py",
   "mimetype": "text/x-python",
   "name": "python",
   "nbconvert_exporter": "python",
   "pygments_lexer": "ipython3",
   "version": "3.13.1"
  }
 },
 "nbformat": 4,
 "nbformat_minor": 5
}
