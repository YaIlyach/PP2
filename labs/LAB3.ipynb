{
 "cells": [
  {
   "cell_type": "markdown",
   "id": "48cd1529-0e91-4740-981d-d74db9a63f1e",
   "metadata": {},
   "source": [
    "# Classes"
   ]
  },
  {
   "cell_type": "markdown",
   "id": "7492f72a-e10d-443a-bba0-d089921179d4",
   "metadata": {},
   "source": [
    "### 1"
   ]
  },
  {
   "cell_type": "code",
   "execution_count": 4,
   "id": "cf5e231f-edd1-4f31-a0fd-aa2a88e10af4",
   "metadata": {},
   "outputs": [
    {
     "name": "stdin",
     "output_type": "stream",
     "text": [
      " 123\n"
     ]
    },
    {
     "name": "stdout",
     "output_type": "stream",
     "text": [
      "123\n"
     ]
    }
   ],
   "source": [
    "class IOStream:\n",
    "    def __init__(self):\n",
    "        self.strr = \"\"\n",
    "\n",
    "    def getString(self):\n",
    "        self.strr = input()\n",
    "\n",
    "    def printString(self):\n",
    "        print(self.strr)\n",
    "\n",
    "x = IOStream()\n",
    "x.getString()\n",
    "x.printString()"
   ]
  },
  {
   "cell_type": "markdown",
   "id": "89e688f2-2fb8-4bb3-a856-f16d5dd68ca6",
   "metadata": {},
   "source": [
    "### 2"
   ]
  },
  {
   "cell_type": "code",
   "execution_count": 3,
   "id": "35ec4363-330c-4695-ab5e-ee69b40bbf6b",
   "metadata": {},
   "outputs": [
    {
     "name": "stdout",
     "output_type": "stream",
     "text": [
      "0\n"
     ]
    }
   ],
   "source": [
    "class Shape:\n",
    "    def __init__(self, length):\n",
    "        self.length = length\n",
    "        self._area = 0\n",
    "\n",
    "    def area(self):\n",
    "        print(self._area)\n",
    "\n",
    "class Square(Shape):\n",
    "    pass\n",
    "\n",
    "\n",
    "x = Square(15)\n",
    "x.area()"
   ]
  },
  {
   "cell_type": "markdown",
   "id": "d1c77c55-5244-40ca-8915-294db585070d",
   "metadata": {},
   "source": [
    "### 3"
   ]
  },
  {
   "cell_type": "code",
   "execution_count": 8,
   "id": "b889e653-2aff-494e-9f77-e70a191151a1",
   "metadata": {},
   "outputs": [
    {
     "name": "stdout",
     "output_type": "stream",
     "text": [
      "40000\n"
     ]
    }
   ],
   "source": [
    "class Rectangle(Shape):\n",
    "    def __init__(self, length, width):\n",
    "        super().__init__(length)\n",
    "        self.width = width\n",
    "\n",
    "    def area_calculate(self):\n",
    "        self._area = self.length * self.width\n",
    "        print(self._area)\n",
    "\n",
    "x = Rectangle(200, 200)\n",
    "x.area_calculate()"
   ]
  },
  {
   "cell_type": "code",
   "execution_count": 3,
   "id": "4d8e7449-149f-4872-b43e-6b2a7920e2bb",
   "metadata": {},
   "outputs": [
    {
     "name": "stdout",
     "output_type": "stream",
     "text": [
      "3 5\n",
      "4 6\n",
      "2.0\n"
     ]
    }
   ],
   "source": [
    "class Point:\n",
    "    def __init__(self, x: int, y: int):\n",
    "        self.x = x\n",
    "        self.y = y\n",
    "\n",
    "    def show(self):\n",
    "        print(self.x, self.y)\n",
    "\n",
    "    def move(self, x: int, y: int):\n",
    "        self.x, self.y = x, y\n",
    "\n",
    "    def dist(self, point):\n",
    "        print(((point.x - self.x)**2 + (point.y - self.y)**2)**0.5)\n",
    "\n",
    "point1 = Point(3, 5)\n",
    "point1.show()\n",
    "point1.move(4, 6)\n",
    "point1.show()\n",
    "\n",
    "point2 = Point(6, 6)\n",
    "point1.dist(point2)"
   ]
  },
  {
   "cell_type": "code",
   "execution_count": 5,
   "id": "06d3cd35-df71-47c0-9ecd-3d8ea4777c05",
   "metadata": {},
   "outputs": [
    {
     "name": "stdout",
     "output_type": "stream",
     "text": [
      "1000\n",
      "1200\n",
      "1100\n"
     ]
    }
   ],
   "source": [
    "class Account:\n",
    "    def __init__(self, owner: str, balance: int):\n",
    "        self.owner = owner\n",
    "        self.balance = balance\n",
    "\n",
    "    def deposit(self, value: int):\n",
    "        self.balance += value\n",
    "\n",
    "    def withdraw(self, value: int):\n",
    "        self.balance -= value\n",
    "\n",
    "acc = Account(\"Ilya\", 1000)\n",
    "print(acc.balance)\n",
    "acc.deposit(200)\n",
    "print(acc.balance)\n",
    "acc.withdraw(100)\n",
    "print(acc.balance)"
   ]
  },
  {
   "cell_type": "code",
   "execution_count": 19,
   "id": "5fb7904a-b42a-4e4c-9022-0366acb33f5d",
   "metadata": {},
   "outputs": [
    {
     "name": "stdout",
     "output_type": "stream",
     "text": [
      "[1, 100, 101, 327, 41] [1, 101, 41]\n"
     ]
    }
   ],
   "source": [
    "a = [1, 100, 101, 327, 41]\n",
    "b = filter(lambda x: [x%z==0 for z in range(1, x+1)].count(True)<=2, a)\n",
    "print(list(b))"
   ]
  },
  {
   "cell_type": "markdown",
   "id": "a21a25e7-7dd0-4e69-a58d-000971277009",
   "metadata": {},
   "source": [
    "# Functions 1"
   ]
  },
  {
   "cell_type": "code",
   "execution_count": 23,
   "id": "90bb2c58-2da0-49ac-a666-75be941ca0fd",
   "metadata": {},
   "outputs": [
    {
     "name": "stdout",
     "output_type": "stream",
     "text": [
      "5669.904619999999\n"
     ]
    }
   ],
   "source": [
    "def grams_to_ounces(grams: int):\n",
    "    return grams * 28.3495231\n",
    "\n",
    "print(grams_to_ounces(200))"
   ]
  },
  {
   "cell_type": "code",
   "execution_count": 24,
   "id": "1cf290c9-fb7d-47c2-b6f3-c8ff46c117ce",
   "metadata": {},
   "outputs": [
    {
     "name": "stdout",
     "output_type": "stream",
     "text": [
      "37.77777777777778\n"
     ]
    }
   ],
   "source": [
    "def fahrenheit_to_celcium(F: int):\n",
    "    return (5 / 9) * (F -32)\n",
    "\n",
    "print(fahrenheit_to_celcium(100))"
   ]
  },
  {
   "cell_type": "code",
   "execution_count": 30,
   "id": "a1b3f6af-5a07-4be9-a46a-89a86416200a",
   "metadata": {},
   "outputs": [
    {
     "name": "stdout",
     "output_type": "stream",
     "text": [
      "(12, 23)\n"
     ]
    }
   ],
   "source": [
    "def solve(numheads: int, numlegs: int) -> (int, int):\n",
    "    # x+y = 35\n",
    "    # 2x+4y = 94\n",
    "    rabbits = (numlegs-numheads*2)/2\n",
    "    chickens= (numheads*4-numlegs)/2\n",
    "    return (int(rabbits), int(chickens))\n",
    "\n",
    "print(solve(35, 94))"
   ]
  },
  {
   "cell_type": "code",
   "execution_count": 31,
   "id": "2d776d82-907a-4d57-8386-5424076c9fb0",
   "metadata": {},
   "outputs": [
    {
     "name": "stdout",
     "output_type": "stream",
     "text": [
      "[71, 101]\n"
     ]
    }
   ],
   "source": [
    "def filter_prime(primes: str) -> list[int]:\n",
    "    primes = list(map(int, primes.split()))\n",
    "    res = []\n",
    "    for prime in primes:\n",
    "        for x in range(2, prime):\n",
    "            if prime%x==0:\n",
    "                break\n",
    "            if x == prime-1:\n",
    "                res.append(prime)\n",
    "    return res\n",
    "print(filter_prime(\"1 15 9 71 51 101\"))"
   ]
  },
  {
   "cell_type": "code",
   "execution_count": 11,
   "id": "e97258df-b7ae-4f34-85c2-03710a41e185",
   "metadata": {},
   "outputs": [
    {
     "name": "stdout",
     "output_type": "stream",
     "text": [
      "['qwerty', 'qweryt', 'qwetry', 'qwetyr', 'qweyrt', 'qweytr', 'qwrety', 'qwreyt', 'qwrtey', 'qwrtye', 'qwryet', 'qwryte', 'qwtery', 'qwteyr', 'qwtrey', 'qwtrye', 'qwtyer', 'qwtyre', 'qwyert', 'qwyetr', 'qwyret', 'qwyrte', 'qwyter', 'qwytre', 'qewrty', 'qewryt', 'qewtry', 'qewtyr', 'qewyrt', 'qewytr', 'qerwty', 'qerwyt', 'qertwy', 'qertyw', 'qerywt', 'qerytw', 'qetwry', 'qetwyr', 'qetrwy', 'qetryw', 'qetywr', 'qetyrw', 'qeywrt', 'qeywtr', 'qeyrwt', 'qeyrtw', 'qeytwr', 'qeytrw', 'qrwety', 'qrweyt', 'qrwtey', 'qrwtye', 'qrwyet', 'qrwyte', 'qrewty', 'qrewyt', 'qretwy', 'qretyw', 'qreywt', 'qreytw', 'qrtwey', 'qrtwye', 'qrtewy', 'qrteyw', 'qrtywe', 'qrtyew', 'qrywet', 'qrywte', 'qryewt', 'qryetw', 'qrytwe', 'qrytew', 'qtwery', 'qtweyr', 'qtwrey', 'qtwrye', 'qtwyer', 'qtwyre', 'qtewry', 'qtewyr', 'qterwy', 'qteryw', 'qteywr', 'qteyrw', 'qtrwey', 'qtrwye', 'qtrewy', 'qtreyw', 'qtrywe', 'qtryew', 'qtywer', 'qtywre', 'qtyewr', 'qtyerw', 'qtyrwe', 'qtyrew', 'qywert', 'qywetr', 'qywret', 'qywrte', 'qywter', 'qywtre', 'qyewrt', 'qyewtr', 'qyerwt', 'qyertw', 'qyetwr', 'qyetrw', 'qyrwet', 'qyrwte', 'qyrewt', 'qyretw', 'qyrtwe', 'qyrtew', 'qytwer', 'qytwre', 'qytewr', 'qyterw', 'qytrwe', 'qytrew', 'wqerty', 'wqeryt', 'wqetry', 'wqetyr', 'wqeyrt', 'wqeytr', 'wqrety', 'wqreyt', 'wqrtey', 'wqrtye', 'wqryet', 'wqryte', 'wqtery', 'wqteyr', 'wqtrey', 'wqtrye', 'wqtyer', 'wqtyre', 'wqyert', 'wqyetr', 'wqyret', 'wqyrte', 'wqyter', 'wqytre', 'weqrty', 'weqryt', 'weqtry', 'weqtyr', 'weqyrt', 'weqytr', 'werqty', 'werqyt', 'wertqy', 'wertyq', 'weryqt', 'werytq', 'wetqry', 'wetqyr', 'wetrqy', 'wetryq', 'wetyqr', 'wetyrq', 'weyqrt', 'weyqtr', 'weyrqt', 'weyrtq', 'weytqr', 'weytrq', 'wrqety', 'wrqeyt', 'wrqtey', 'wrqtye', 'wrqyet', 'wrqyte', 'wreqty', 'wreqyt', 'wretqy', 'wretyq', 'wreyqt', 'wreytq', 'wrtqey', 'wrtqye', 'wrteqy', 'wrteyq', 'wrtyqe', 'wrtyeq', 'wryqet', 'wryqte', 'wryeqt', 'wryetq', 'wrytqe', 'wryteq', 'wtqery', 'wtqeyr', 'wtqrey', 'wtqrye', 'wtqyer', 'wtqyre', 'wteqry', 'wteqyr', 'wterqy', 'wteryq', 'wteyqr', 'wteyrq', 'wtrqey', 'wtrqye', 'wtreqy', 'wtreyq', 'wtryqe', 'wtryeq', 'wtyqer', 'wtyqre', 'wtyeqr', 'wtyerq', 'wtyrqe', 'wtyreq', 'wyqert', 'wyqetr', 'wyqret', 'wyqrte', 'wyqter', 'wyqtre', 'wyeqrt', 'wyeqtr', 'wyerqt', 'wyertq', 'wyetqr', 'wyetrq', 'wyrqet', 'wyrqte', 'wyreqt', 'wyretq', 'wyrtqe', 'wyrteq', 'wytqer', 'wytqre', 'wyteqr', 'wyterq', 'wytrqe', 'wytreq', 'eqwrty', 'eqwryt', 'eqwtry', 'eqwtyr', 'eqwyrt', 'eqwytr', 'eqrwty', 'eqrwyt', 'eqrtwy', 'eqrtyw', 'eqrywt', 'eqrytw', 'eqtwry', 'eqtwyr', 'eqtrwy', 'eqtryw', 'eqtywr', 'eqtyrw', 'eqywrt', 'eqywtr', 'eqyrwt', 'eqyrtw', 'eqytwr', 'eqytrw', 'ewqrty', 'ewqryt', 'ewqtry', 'ewqtyr', 'ewqyrt', 'ewqytr', 'ewrqty', 'ewrqyt', 'ewrtqy', 'ewrtyq', 'ewryqt', 'ewrytq', 'ewtqry', 'ewtqyr', 'ewtrqy', 'ewtryq', 'ewtyqr', 'ewtyrq', 'ewyqrt', 'ewyqtr', 'ewyrqt', 'ewyrtq', 'ewytqr', 'ewytrq', 'erqwty', 'erqwyt', 'erqtwy', 'erqtyw', 'erqywt', 'erqytw', 'erwqty', 'erwqyt', 'erwtqy', 'erwtyq', 'erwyqt', 'erwytq', 'ertqwy', 'ertqyw', 'ertwqy', 'ertwyq', 'ertyqw', 'ertywq', 'eryqwt', 'eryqtw', 'erywqt', 'erywtq', 'erytqw', 'erytwq', 'etqwry', 'etqwyr', 'etqrwy', 'etqryw', 'etqywr', 'etqyrw', 'etwqry', 'etwqyr', 'etwrqy', 'etwryq', 'etwyqr', 'etwyrq', 'etrqwy', 'etrqyw', 'etrwqy', 'etrwyq', 'etryqw', 'etrywq', 'etyqwr', 'etyqrw', 'etywqr', 'etywrq', 'etyrqw', 'etyrwq', 'eyqwrt', 'eyqwtr', 'eyqrwt', 'eyqrtw', 'eyqtwr', 'eyqtrw', 'eywqrt', 'eywqtr', 'eywrqt', 'eywrtq', 'eywtqr', 'eywtrq', 'eyrqwt', 'eyrqtw', 'eyrwqt', 'eyrwtq', 'eyrtqw', 'eyrtwq', 'eytqwr', 'eytqrw', 'eytwqr', 'eytwrq', 'eytrqw', 'eytrwq', 'rqwety', 'rqweyt', 'rqwtey', 'rqwtye', 'rqwyet', 'rqwyte', 'rqewty', 'rqewyt', 'rqetwy', 'rqetyw', 'rqeywt', 'rqeytw', 'rqtwey', 'rqtwye', 'rqtewy', 'rqteyw', 'rqtywe', 'rqtyew', 'rqywet', 'rqywte', 'rqyewt', 'rqyetw', 'rqytwe', 'rqytew', 'rwqety', 'rwqeyt', 'rwqtey', 'rwqtye', 'rwqyet', 'rwqyte', 'rweqty', 'rweqyt', 'rwetqy', 'rwetyq', 'rweyqt', 'rweytq', 'rwtqey', 'rwtqye', 'rwteqy', 'rwteyq', 'rwtyqe', 'rwtyeq', 'rwyqet', 'rwyqte', 'rwyeqt', 'rwyetq', 'rwytqe', 'rwyteq', 'reqwty', 'reqwyt', 'reqtwy', 'reqtyw', 'reqywt', 'reqytw', 'rewqty', 'rewqyt', 'rewtqy', 'rewtyq', 'rewyqt', 'rewytq', 'retqwy', 'retqyw', 'retwqy', 'retwyq', 'retyqw', 'retywq', 'reyqwt', 'reyqtw', 'reywqt', 'reywtq', 'reytqw', 'reytwq', 'rtqwey', 'rtqwye', 'rtqewy', 'rtqeyw', 'rtqywe', 'rtqyew', 'rtwqey', 'rtwqye', 'rtweqy', 'rtweyq', 'rtwyqe', 'rtwyeq', 'rteqwy', 'rteqyw', 'rtewqy', 'rtewyq', 'rteyqw', 'rteywq', 'rtyqwe', 'rtyqew', 'rtywqe', 'rtyweq', 'rtyeqw', 'rtyewq', 'ryqwet', 'ryqwte', 'ryqewt', 'ryqetw', 'ryqtwe', 'ryqtew', 'rywqet', 'rywqte', 'ryweqt', 'rywetq', 'rywtqe', 'rywteq', 'ryeqwt', 'ryeqtw', 'ryewqt', 'ryewtq', 'ryetqw', 'ryetwq', 'rytqwe', 'rytqew', 'rytwqe', 'rytweq', 'ryteqw', 'rytewq', 'tqwery', 'tqweyr', 'tqwrey', 'tqwrye', 'tqwyer', 'tqwyre', 'tqewry', 'tqewyr', 'tqerwy', 'tqeryw', 'tqeywr', 'tqeyrw', 'tqrwey', 'tqrwye', 'tqrewy', 'tqreyw', 'tqrywe', 'tqryew', 'tqywer', 'tqywre', 'tqyewr', 'tqyerw', 'tqyrwe', 'tqyrew', 'twqery', 'twqeyr', 'twqrey', 'twqrye', 'twqyer', 'twqyre', 'tweqry', 'tweqyr', 'twerqy', 'tweryq', 'tweyqr', 'tweyrq', 'twrqey', 'twrqye', 'twreqy', 'twreyq', 'twryqe', 'twryeq', 'twyqer', 'twyqre', 'twyeqr', 'twyerq', 'twyrqe', 'twyreq', 'teqwry', 'teqwyr', 'teqrwy', 'teqryw', 'teqywr', 'teqyrw', 'tewqry', 'tewqyr', 'tewrqy', 'tewryq', 'tewyqr', 'tewyrq', 'terqwy', 'terqyw', 'terwqy', 'terwyq', 'teryqw', 'terywq', 'teyqwr', 'teyqrw', 'teywqr', 'teywrq', 'teyrqw', 'teyrwq', 'trqwey', 'trqwye', 'trqewy', 'trqeyw', 'trqywe', 'trqyew', 'trwqey', 'trwqye', 'trweqy', 'trweyq', 'trwyqe', 'trwyeq', 'treqwy', 'treqyw', 'trewqy', 'trewyq', 'treyqw', 'treywq', 'tryqwe', 'tryqew', 'trywqe', 'tryweq', 'tryeqw', 'tryewq', 'tyqwer', 'tyqwre', 'tyqewr', 'tyqerw', 'tyqrwe', 'tyqrew', 'tywqer', 'tywqre', 'tyweqr', 'tywerq', 'tywrqe', 'tywreq', 'tyeqwr', 'tyeqrw', 'tyewqr', 'tyewrq', 'tyerqw', 'tyerwq', 'tyrqwe', 'tyrqew', 'tyrwqe', 'tyrweq', 'tyreqw', 'tyrewq', 'yqwert', 'yqwetr', 'yqwret', 'yqwrte', 'yqwter', 'yqwtre', 'yqewrt', 'yqewtr', 'yqerwt', 'yqertw', 'yqetwr', 'yqetrw', 'yqrwet', 'yqrwte', 'yqrewt', 'yqretw', 'yqrtwe', 'yqrtew', 'yqtwer', 'yqtwre', 'yqtewr', 'yqterw', 'yqtrwe', 'yqtrew', 'ywqert', 'ywqetr', 'ywqret', 'ywqrte', 'ywqter', 'ywqtre', 'yweqrt', 'yweqtr', 'ywerqt', 'ywertq', 'ywetqr', 'ywetrq', 'ywrqet', 'ywrqte', 'ywreqt', 'ywretq', 'ywrtqe', 'ywrteq', 'ywtqer', 'ywtqre', 'ywteqr', 'ywterq', 'ywtrqe', 'ywtreq', 'yeqwrt', 'yeqwtr', 'yeqrwt', 'yeqrtw', 'yeqtwr', 'yeqtrw', 'yewqrt', 'yewqtr', 'yewrqt', 'yewrtq', 'yewtqr', 'yewtrq', 'yerqwt', 'yerqtw', 'yerwqt', 'yerwtq', 'yertqw', 'yertwq', 'yetqwr', 'yetqrw', 'yetwqr', 'yetwrq', 'yetrqw', 'yetrwq', 'yrqwet', 'yrqwte', 'yrqewt', 'yrqetw', 'yrqtwe', 'yrqtew', 'yrwqet', 'yrwqte', 'yrweqt', 'yrwetq', 'yrwtqe', 'yrwteq', 'yreqwt', 'yreqtw', 'yrewqt', 'yrewtq', 'yretqw', 'yretwq', 'yrtqwe', 'yrtqew', 'yrtwqe', 'yrtweq', 'yrteqw', 'yrtewq', 'ytqwer', 'ytqwre', 'ytqewr', 'ytqerw', 'ytqrwe', 'ytqrew', 'ytwqer', 'ytwqre', 'ytweqr', 'ytwerq', 'ytwrqe', 'ytwreq', 'yteqwr', 'yteqrw', 'ytewqr', 'ytewrq', 'yterqw', 'yterwq', 'ytrqwe', 'ytrqew', 'ytrwqe', 'ytrweq', 'ytreqw', 'ytrewq']\n"
     ]
    }
   ],
   "source": [
    "def get_permutations(s: str):\n",
    "\n",
    "    if len(s) == 1:\n",
    "        return [s]\n",
    "    \n",
    "    permutations = []\n",
    "    for i in range(len(s)):\n",
    "        # q\n",
    "        current_char = s[i]\n",
    "        \n",
    "        # werty\n",
    "        remaining_chars = s[:i] + s[i+1:]\n",
    "        \n",
    "        for perm in get_permutations(remaining_chars):\n",
    "            permutations.append(current_char + perm)\n",
    "    \n",
    "    return permutations\n",
    "\n",
    "\n",
    "print(get_permutations('qwerty'))"
   ]
  },
  {
   "cell_type": "code",
   "execution_count": 2,
   "id": "26c78ac7-6272-4c4b-9c84-880d58673b39",
   "metadata": {},
   "outputs": [
    {
     "name": "stdout",
     "output_type": "stream",
     "text": [
      "ready are We\n"
     ]
    }
   ],
   "source": [
    "def rev(sent: str):\n",
    "    return \" \".join(sent.split()[::-1])\n",
    "\n",
    "print(rev(\"We are ready\"))"
   ]
  },
  {
   "cell_type": "code",
   "execution_count": 6,
   "id": "d8962513-655e-4bea-b853-8876e926cd11",
   "metadata": {},
   "outputs": [
    {
     "name": "stdout",
     "output_type": "stream",
     "text": [
      "True\n",
      "False\n",
      "False\n"
     ]
    }
   ],
   "source": [
    "def has_33(nums: list):\n",
    "    for i in range(len(nums)):\n",
    "        if i == 0:\n",
    "            if nums[i] == 3 and nums [i+1] == 3:\n",
    "                return True\n",
    "        elif i == len(nums)-1:\n",
    "            if nums[i] == 3 and nums [i-1] == 3:\n",
    "                return True\n",
    "        else:\n",
    "            if nums[i] == 3:\n",
    "                if nums[i+1] == 3 or nums[i-1] == 3:\n",
    "                    return True\n",
    "    return False\n",
    "\n",
    "\n",
    "print(has_33([1, 3, 3]))\n",
    "print(has_33([1, 3, 1, 3]))\n",
    "print(has_33([3, 1, 3]))"
   ]
  },
  {
   "cell_type": "code",
   "execution_count": 11,
   "id": "d680b58c-f6be-4212-b989-e9188ad9b47b",
   "metadata": {},
   "outputs": [
    {
     "name": "stdout",
     "output_type": "stream",
     "text": [
      "True True False\n"
     ]
    }
   ],
   "source": [
    "def spy_game(nums: list):\n",
    "    res = \"\"\n",
    "    for i in nums:\n",
    "        if i in (0, 7):\n",
    "            res += str(i)\n",
    "            \n",
    "        if len(res) < 3:\n",
    "            if '7' in res:\n",
    "                res = ''\n",
    "        if res == \"007\":\n",
    "            return True\n",
    "    return False\n",
    "\n",
    "print(spy_game([1,2,4,0,0,7,5]),\n",
    "spy_game([1,0,2,4,0,5,7]),\n",
    "spy_game([1,7,2,0,4,5,0]))"
   ]
  },
  {
   "cell_type": "code",
   "execution_count": 4,
   "id": "ab917deb-ced8-4b9d-9497-026f4ec7b2dc",
   "metadata": {},
   "outputs": [
    {
     "name": "stdout",
     "output_type": "stream",
     "text": [
      "33493.333333333336\n"
     ]
    }
   ],
   "source": [
    "def shape(radius: int):\n",
    "    return ((4/3)*3.14*radius**3)\n",
    "\n",
    "print(shape(20))"
   ]
  },
  {
   "cell_type": "code",
   "execution_count": 3,
   "id": "76518508-2710-4a34-b0e1-913f23454f45",
   "metadata": {},
   "outputs": [
    {
     "name": "stdout",
     "output_type": "stream",
     "text": [
      "[1, 2, 3, 4, 5]\n"
     ]
    }
   ],
   "source": [
    "def uniq(l: list):\n",
    "    n_l = []\n",
    "    for i in l:\n",
    "        if not i in n_l:\n",
    "            n_l.append(i)\n",
    "    return n_l\n",
    "\n",
    "print(uniq([1, 1, 2, 3, 4, 5, 5]))"
   ]
  },
  {
   "cell_type": "code",
   "execution_count": 5,
   "id": "21111077-5575-4554-a8c6-cc9224db21d6",
   "metadata": {},
   "outputs": [
    {
     "name": "stdout",
     "output_type": "stream",
     "text": [
      "True\n",
      "False\n"
     ]
    }
   ],
   "source": [
    "def is_palindrome(w: str):\n",
    "    if w == w[::-1]:\n",
    "        return True\n",
    "    return False\n",
    "\n",
    "print(is_palindrome('abba'))\n",
    "print(is_palindrome('abda'))\n"
   ]
  },
  {
   "cell_type": "code",
   "execution_count": 6,
   "id": "a5206802-9998-43ae-bba4-e1d597a053b0",
   "metadata": {},
   "outputs": [
    {
     "name": "stdout",
     "output_type": "stream",
     "text": [
      "*****\n",
      "***\n",
      "**\n"
     ]
    }
   ],
   "source": [
    "def histogram(n: list):\n",
    "    for i in n:\n",
    "        print(\"*\"*i)\n",
    "\n",
    "histogram([5, 3, 2])"
   ]
  },
  {
   "cell_type": "code",
   "execution_count": 9,
   "id": "bb4ddedd-babd-4ef3-8da1-78a7b56f5a0b",
   "metadata": {},
   "outputs": [
    {
     "name": "stdin",
     "output_type": "stream",
     "text": [
      "Guess the number:\n",
      " 10\n"
     ]
    },
    {
     "name": "stdout",
     "output_type": "stream",
     "text": [
      "Too low\n"
     ]
    },
    {
     "name": "stdin",
     "output_type": "stream",
     "text": [
      "Guess the number:\n",
      " 15\n"
     ]
    },
    {
     "name": "stdout",
     "output_type": "stream",
     "text": [
      "Too high\n"
     ]
    },
    {
     "name": "stdin",
     "output_type": "stream",
     "text": [
      "Guess the number:\n",
      " 12\n"
     ]
    },
    {
     "name": "stdout",
     "output_type": "stream",
     "text": [
      "Too low\n"
     ]
    },
    {
     "name": "stdin",
     "output_type": "stream",
     "text": [
      "Guess the number:\n",
      " 13\n"
     ]
    },
    {
     "name": "stdout",
     "output_type": "stream",
     "text": [
      "Too low\n"
     ]
    },
    {
     "name": "stdin",
     "output_type": "stream",
     "text": [
      "Guess the number:\n",
      " 14\n"
     ]
    },
    {
     "name": "stdout",
     "output_type": "stream",
     "text": [
      "Right!\n"
     ]
    }
   ],
   "source": [
    "import random\n",
    "\n",
    "def guess_the_game():\n",
    "    num = random.randint(1, 20)\n",
    "    guess = int(input(\"Guess the number:\\n\"))\n",
    "    while num != guess:\n",
    "        if guess < num:\n",
    "            print(\"Too low\")\n",
    "        elif guess > num:\n",
    "            print(\"Too high\")\n",
    "        guess = int(input(\"Guess the number:\\n\"))\n",
    "    print(\"Right!\")\n",
    "\n",
    "guess_the_game()"
   ]
  },
  {
   "cell_type": "markdown",
   "id": "12aac61a-2eaf-46c6-af7c-62f50208431d",
   "metadata": {},
   "source": [
    "# Functions 2"
   ]
  },
  {
   "cell_type": "code",
   "execution_count": 13,
   "id": "9f833db1-f4f3-47b1-8364-fdc58f870b46",
   "metadata": {},
   "outputs": [],
   "source": [
    "movies = [\n",
    "{\n",
    "\"name\": \"Usual Suspects\", \n",
    "\"imdb\": 7.0,\n",
    "\"category\": \"Thriller\"\n",
    "},\n",
    "{\n",
    "\"name\": \"Hitman\",\n",
    "\"imdb\": 6.3,\n",
    "\"category\": \"Action\"\n",
    "},\n",
    "{\n",
    "\"name\": \"Dark Knight\",\n",
    "\"imdb\": 9.0,\n",
    "\"category\": \"Adventure\"\n",
    "},\n",
    "{\n",
    "\"name\": \"The Help\",\n",
    "\"imdb\": 8.0,\n",
    "\"category\": \"Drama\"\n",
    "},\n",
    "{\n",
    "\"name\": \"The Choice\",\n",
    "\"imdb\": 6.2,\n",
    "\"category\": \"Romance\"\n",
    "},\n",
    "{\n",
    "\"name\": \"Colonia\",\n",
    "\"imdb\": 7.4,\n",
    "\"category\": \"Romance\"\n",
    "},\n",
    "{\n",
    "\"name\": \"Love\",\n",
    "\"imdb\": 6.0,\n",
    "\"category\": \"Romance\"\n",
    "},\n",
    "{\n",
    "\"name\": \"Bride Wars\",\n",
    "\"imdb\": 5.4,\n",
    "\"category\": \"Romance\"\n",
    "},\n",
    "{\n",
    "\"name\": \"AlphaJet\",\n",
    "\"imdb\": 3.2,\n",
    "\"category\": \"War\"\n",
    "},\n",
    "{\n",
    "\"name\": \"Ringing Crime\",\n",
    "\"imdb\": 4.0,\n",
    "\"category\": \"Crime\"\n",
    "},\n",
    "{\n",
    "\"name\": \"Joking muck\",\n",
    "\"imdb\": 7.2,\n",
    "\"category\": \"Comedy\"\n",
    "},\n",
    "{\n",
    "\"name\": \"What is the name\",\n",
    "\"imdb\": 9.2,\n",
    "\"category\": \"Suspense\"\n",
    "},\n",
    "{\n",
    "\"name\": \"Detective\",\n",
    "\"imdb\": 7.0,\n",
    "\"category\": \"Suspense\"\n",
    "},\n",
    "{\n",
    "\"name\": \"Exam\",\n",
    "\"imdb\": 4.2,\n",
    "\"category\": \"Thriller\"\n",
    "},\n",
    "{\n",
    "\"name\": \"We Two\",\n",
    "\"imdb\": 7.2,\n",
    "\"category\": \"Romance\"\n",
    "}\n",
    "]"
   ]
  },
  {
   "cell_type": "code",
   "execution_count": 14,
   "id": "4121d125-af49-49e9-8e98-ddfaeb4e6e4c",
   "metadata": {},
   "outputs": [
    {
     "name": "stdout",
     "output_type": "stream",
     "text": [
      "True\n"
     ]
    }
   ],
   "source": [
    "def is_high_score(d: dict):\n",
    "    if d['imdb'] > 5.5:\n",
    "        return True\n",
    "    return False\n",
    "\n",
    "\n",
    "print(is_high_score(movies[-1]))"
   ]
  },
  {
   "cell_type": "code",
   "execution_count": 15,
   "id": "f40927c9-db25-42c8-8ddb-2459f2973020",
   "metadata": {},
   "outputs": [
    {
     "name": "stdout",
     "output_type": "stream",
     "text": [
      "[{'name': 'Usual Suspects', 'imdb': 7.0, 'category': 'Thriller'}, {'name': 'Hitman', 'imdb': 6.3, 'category': 'Action'}, {'name': 'Dark Knight', 'imdb': 9.0, 'category': 'Adventure'}, {'name': 'The Help', 'imdb': 8.0, 'category': 'Drama'}, {'name': 'The Choice', 'imdb': 6.2, 'category': 'Romance'}, {'name': 'Colonia', 'imdb': 7.4, 'category': 'Romance'}, {'name': 'Love', 'imdb': 6.0, 'category': 'Romance'}, {'name': 'Joking muck', 'imdb': 7.2, 'category': 'Comedy'}, {'name': 'What is the name', 'imdb': 9.2, 'category': 'Suspense'}, {'name': 'Detective', 'imdb': 7.0, 'category': 'Suspense'}, {'name': 'We Two', 'imdb': 7.2, 'category': 'Romance'}]\n"
     ]
    }
   ],
   "source": [
    "def all_movies_above_5_5(movies: list):\n",
    "    res = []\n",
    "    for movie in movies:\n",
    "        if movie['imdb'] > 5.5:\n",
    "            res.append(movie)\n",
    "\n",
    "    return res\n",
    "\n",
    "print(all_movies_above_5_5(movies))"
   ]
  },
  {
   "cell_type": "code",
   "execution_count": 16,
   "id": "ba95ce21-95c5-4a70-b2f0-ca209a3e6cc5",
   "metadata": {},
   "outputs": [
    {
     "name": "stdout",
     "output_type": "stream",
     "text": [
      "[{'name': 'What is the name', 'imdb': 9.2, 'category': 'Suspense'}, {'name': 'Detective', 'imdb': 7.0, 'category': 'Suspense'}]\n"
     ]
    }
   ],
   "source": [
    "def all_movies_with_category(movies: list, category: str):\n",
    "    res = []\n",
    "    for movie in movies:\n",
    "        if movie['category'] == category:\n",
    "            res.append(movie)\n",
    "\n",
    "    return res\n",
    "\n",
    "print(all_movies_with_category(movies, 'Suspense'))"
   ]
  },
  {
   "cell_type": "code",
   "execution_count": 18,
   "id": "2d3a0eb2-73a0-41c1-b2b1-d5bb52c06705",
   "metadata": {},
   "outputs": [
    {
     "name": "stdout",
     "output_type": "stream",
     "text": [
      "6.486666666666667\n"
     ]
    }
   ],
   "source": [
    "def avg_imdb(movies: list):\n",
    "    res = 0\n",
    "    for movie in movies:\n",
    "        res += movie['imdb']\n",
    "\n",
    "    return res/len(movies)\n",
    "\n",
    "print(avg_imdb(movies))"
   ]
  },
  {
   "cell_type": "code",
   "execution_count": 19,
   "id": "aebdaa53-0e55-4d3f-9319-eb5c0258abed",
   "metadata": {},
   "outputs": [
    {
     "name": "stdout",
     "output_type": "stream",
     "text": [
      "1.0799999999999998\n"
     ]
    }
   ],
   "source": [
    "def avg_imdb_by_category(movies: list, category: str):\n",
    "    res = 0\n",
    "    for movie in movies:\n",
    "        if movie['category'] == category:\n",
    "            res += movie['imdb']\n",
    "\n",
    "    return res/len(movies)\n",
    "\n",
    "print(avg_imdb_by_category(movies, \"Suspense\"))"
   ]
  }
 ],
 "metadata": {
  "kernelspec": {
   "display_name": "Python 3 (ipykernel)",
   "language": "python",
   "name": "python3"
  },
  "language_info": {
   "codemirror_mode": {
    "name": "ipython",
    "version": 3
   },
   "file_extension": ".py",
   "mimetype": "text/x-python",
   "name": "python",
   "nbconvert_exporter": "python",
   "pygments_lexer": "ipython3",
   "version": "3.13.1"
  }
 },
 "nbformat": 4,
 "nbformat_minor": 5
}
