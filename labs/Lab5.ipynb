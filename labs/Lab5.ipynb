{
 "cells": [
  {
   "cell_type": "code",
   "execution_count": 1,
   "id": "c6705d53-2bb9-45ec-8f27-15a3f6747a1e",
   "metadata": {},
   "outputs": [],
   "source": [
    "import re"
   ]
  },
  {
   "cell_type": "code",
   "execution_count": 2,
   "id": "a62cc473-e319-4f19-a5da-e43c05e9b2ee",
   "metadata": {},
   "outputs": [],
   "source": [
    "with open('row.txt', 'r') as file:\n",
    "    text = file.read()"
   ]
  },
  {
   "cell_type": "markdown",
   "id": "e9772ccb-2516-45c4-b378-ede4348fe484",
   "metadata": {},
   "source": [
    "# 1"
   ]
  },
  {
   "cell_type": "code",
   "execution_count": 32,
   "id": "9b735c09-1bf0-45f5-8373-2932e424a591",
   "metadata": {},
   "outputs": [
    {
     "name": "stdout",
     "output_type": "stream",
     "text": [
      "Hello from bbbasa crew\n",
      "['bbba', 'a']\n"
     ]
    }
   ],
   "source": [
    "pattern = r\"(b*a)\"\n",
    "text = \"Hello from bbbasa crew\"\n",
    "\n",
    "match = re.findall(pattern, text)\n",
    "\n",
    "if match:\n",
    "    print(text)\n",
    "    print(match)\n",
    "    \n",
    "\n",
    "# with open('row.txt', 'r') as file:\n",
    "#     for line in file:\n",
    "#         matches = re.findall(pattern, line)\n",
    "#         if matches:\n",
    "#             print(line.strip())"
   ]
  },
  {
   "cell_type": "markdown",
   "id": "ae4681bf-0b90-4c91-9b35-bfefc3a22c7c",
   "metadata": {},
   "source": [
    "# 2"
   ]
  },
  {
   "cell_type": "code",
   "execution_count": 31,
   "id": "5a41f405-83c3-4fef-8e6d-c3c8211a4aff",
   "metadata": {},
   "outputs": [
    {
     "name": "stdout",
     "output_type": "stream",
     "text": [
      "Hello from bbbasa crew\n",
      "['bbb']\n"
     ]
    }
   ],
   "source": [
    "    print(match)\n",
    "pattern = r\"(b{2}|b{3})a\"\n",
    "text = \"Hello from bbbasa crew\"\n",
    "\n",
    "match = re.findall(pattern, text)\n",
    "\n",
    "if match:\n",
    "    print(text)\n",
    "    print(match)"
   ]
  },
  {
   "cell_type": "markdown",
   "id": "dbb6466a-1c2e-44ac-99e3-a74ec631b044",
   "metadata": {},
   "source": [
    "# 3"
   ]
  },
  {
   "cell_type": "code",
   "execution_count": 33,
   "id": "3e0ddca8-ca9f-4b69-aefe-d2be5df89fa0",
   "metadata": {},
   "outputs": [
    {
     "name": "stdout",
     "output_type": "stream",
     "text": [
      "Hello from bbabasa_dsadsa crew\n",
      "['_dsadsa']\n"
     ]
    }
   ],
   "source": [
    "pattern = r\"[a-z]+(_[a-z]+)\"\n",
    "text = \"Hello from bbabasa_dsadsa crew\"\n",
    "\n",
    "match = re.findall(pattern, text)\n",
    "\n",
    "if match:\n",
    "    print(text)\n",
    "    print(match)"
   ]
  },
  {
   "cell_type": "markdown",
   "id": "654c431e-112c-479b-a9c1-ef0808113843",
   "metadata": {},
   "source": [
    "# 4"
   ]
  },
  {
   "cell_type": "code",
   "execution_count": 34,
   "id": "279555e3-81ff-47eb-9b4b-3c2d895cf8e8",
   "metadata": {},
   "outputs": [
    {
     "name": "stdout",
     "output_type": "stream",
     "text": [
      "Hello from bbabasa_dsadsa crew\n",
      "['ello']\n"
     ]
    }
   ],
   "source": [
    "pattern = r\"[A-Z]([a-z]+)\"\n",
    "text = \"Hello from bbabasa_dsadsa crew\"\n",
    "\n",
    "match = re.findall(pattern, text)\n",
    "\n",
    "if match:\n",
    "    print(text)\n",
    "    print(match)"
   ]
  },
  {
   "cell_type": "markdown",
   "id": "83835608-d775-414b-8ae1-bbb8af2bf88b",
   "metadata": {},
   "source": [
    "# 5"
   ]
  },
  {
   "cell_type": "code",
   "execution_count": 61,
   "id": "70788a27-21f6-407e-b8ba-b25cad3240a7",
   "metadata": {},
   "outputs": [
    {
     "name": "stdout",
     "output_type": "stream",
     "text": [
      "Hello from bbabasa_dsadsa crew b\n",
      "[' ']\n"
     ]
    }
   ],
   "source": [
    "pattern = r\"(.)a*b$\"\n",
    "text = \"Hello from bbabasa_dsadsa crew b\"\n",
    "\n",
    "match = re.findall(pattern, text)\n",
    "\n",
    "if match:\n",
    "    print(text)\n",
    "    print(match)"
   ]
  },
  {
   "cell_type": "markdown",
   "id": "6f20ff1f-14e9-4495-9d7c-a03cd48ace9d",
   "metadata": {},
   "source": [
    "# 6"
   ]
  },
  {
   "cell_type": "code",
   "execution_count": 37,
   "id": "aba25fbd-d0e9-41a4-b010-4400252d1474",
   "metadata": {},
   "outputs": [
    {
     "name": "stdout",
     "output_type": "stream",
     "text": [
      "Hello from bbabasa_dsadsa crew\n",
      "Hello:from:bbabasa_dsadsa:crew\n"
     ]
    }
   ],
   "source": [
    "pattern = r\"[ ,.]\"\n",
    "text = \"Hello from bbabasa_dsadsa crew\"\n",
    "\n",
    "match = re.sub(pattern, ':', text)\n",
    "\n",
    "if match:\n",
    "    print(text)\n",
    "    print(match)"
   ]
  },
  {
   "cell_type": "markdown",
   "id": "3a7a8388-a25c-48e4-a3c3-ba71f2e7e73c",
   "metadata": {},
   "source": [
    "# 7"
   ]
  },
  {
   "cell_type": "code",
   "execution_count": 52,
   "id": "4082c3fb-f196-4cf5-bcb1-76bff19016d8",
   "metadata": {},
   "outputs": [
    {
     "name": "stdout",
     "output_type": "stream",
     "text": [
      "some_snake_case\n",
      "someSnakeCase\n"
     ]
    }
   ],
   "source": [
    "pattern = r\"_([a-z])\"\n",
    "text = \"some_snake_case\"\n",
    "\n",
    "match = re.sub(pattern, lambda match: match.group(1).upper(), text)\n",
    "\n",
    "if match:\n",
    "    print(text)\n",
    "    print(match)"
   ]
  },
  {
   "cell_type": "markdown",
   "id": "a05efa88-5abd-4bc3-8de1-911d6074a098",
   "metadata": {},
   "source": [
    "# 8"
   ]
  },
  {
   "cell_type": "code",
   "execution_count": 80,
   "id": "a5c5415b-0841-49b0-bc95-12be4d212dce",
   "metadata": {},
   "outputs": [
    {
     "name": "stdout",
     "output_type": "stream",
     "text": [
      "SplitAtCapital\n",
      "['Split', 'At', 'Capital']\n"
     ]
    }
   ],
   "source": [
    "pattern = r\"[A-Z]?[a-z]+|[A-Z]\"\n",
    "text = \"SplitAtCapital\"\n",
    "\n",
    "match = re.findall(pattern, text)\n",
    "\n",
    "if match:\n",
    "    print(text)\n",
    "    print(match)"
   ]
  },
  {
   "cell_type": "markdown",
   "id": "d46a5f3e-52c0-4640-88b1-aee1e2d51acd",
   "metadata": {},
   "source": [
    "# 9"
   ]
  },
  {
   "cell_type": "code",
   "execution_count": 75,
   "id": "d3c62d45-b0ea-45a3-be77-8d637d43b14e",
   "metadata": {},
   "outputs": [
    {
     "name": "stdout",
     "output_type": "stream",
     "text": [
      "SplitAtCapital\n",
      "Split At Capital\n"
     ]
    }
   ],
   "source": [
    "pattern = r\"[A-Z]\"\n",
    "text = \"SplitAtCapital\"\n",
    "\n",
    "match = re.sub(pattern, lambda match: \" \" + match.group(), text)\n",
    "\n",
    "if match:\n",
    "    print(text)\n",
    "    print(match.strip())"
   ]
  },
  {
   "cell_type": "markdown",
   "id": "2a19a3e2-b495-45df-957a-4e167c170a8a",
   "metadata": {},
   "source": [
    "# 10"
   ]
  },
  {
   "cell_type": "code",
   "execution_count": 78,
   "id": "f20000af-646b-40d0-a73a-6b78cecec95a",
   "metadata": {},
   "outputs": [
    {
     "name": "stdout",
     "output_type": "stream",
     "text": [
      "someCamelCase\n",
      "some_camel_case\n"
     ]
    }
   ],
   "source": [
    "pattern = r\"([A-Z])\"\n",
    "text = \"someCamelCase\"\n",
    "\n",
    "match = re.sub(pattern, lambda match: \"_\" + match.group().lower() , text)\n",
    "\n",
    "if match:\n",
    "    print(text)\n",
    "    print(match)"
   ]
  },
  {
   "cell_type": "code",
   "execution_count": null,
   "id": "b0a08be5-e473-4f57-bd7f-1b12fff332d3",
   "metadata": {},
   "outputs": [],
   "source": []
  }
 ],
 "metadata": {
  "kernelspec": {
   "display_name": "Python 3 (ipykernel)",
   "language": "python",
   "name": "python3"
  },
  "language_info": {
   "codemirror_mode": {
    "name": "ipython",
    "version": 3
   },
   "file_extension": ".py",
   "mimetype": "text/x-python",
   "name": "python",
   "nbconvert_exporter": "python",
   "pygments_lexer": "ipython3",
   "version": "3.13.1"
  }
 },
 "nbformat": 4,
 "nbformat_minor": 5
}
