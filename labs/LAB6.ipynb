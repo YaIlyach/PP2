{
 "cells": [
  {
   "cell_type": "markdown",
   "id": "d4101b13-234e-4830-ad31-6fdb5bc57114",
   "metadata": {},
   "source": [
    "# Python Directories and Files"
   ]
  },
  {
   "cell_type": "code",
   "execution_count": 1,
   "id": "57851c49-a296-4f50-9046-e54014fd2e93",
   "metadata": {},
   "outputs": [],
   "source": [
    "import os"
   ]
  },
  {
   "cell_type": "code",
   "execution_count": 25,
   "id": "b97da554-f0fa-49d4-ae78-a7b4c47afae2",
   "metadata": {},
   "outputs": [
    {
     "name": "stdout",
     "output_type": "stream",
     "text": [
      "['.ipynb_checkpoints']\n",
      "['sample-data.json', 'LAB2.ipynb', 'LAB1.ipynb', 'LAB4.ipynb', 'Lab5.ipynb', '.ipynb_checkpoints', 'LAB3.ipynb', 'row.txt', 'LAB6.ipynb']\n",
      "['sample-data.json', 'LAB2.ipynb', 'LAB1.ipynb', 'LAB4.ipynb', 'Lab5.ipynb', 'LAB3.ipynb', 'row.txt', 'LAB6.ipynb']\n"
     ]
    }
   ],
   "source": [
    "print([f for f in os.listdir() if os.path.isdir(f)])  # directories\n",
    "print(os.listdir())  # all files and directories\n",
    "print([f for f in os.listdir('/home/zlup/projects/PP2/labs') if os.path.isfile(f)])  # files in specific directory"
   ]
  },
  {
   "cell_type": "code",
   "execution_count": 35,
   "id": "269008bf-515d-4306-a92c-2760aff8aab0",
   "metadata": {},
   "outputs": [
    {
     "name": "stdout",
     "output_type": "stream",
     "text": [
      "True\n",
      "True\n",
      "False\n"
     ]
    }
   ],
   "source": [
    "print(os.access('/home/zlup/projects/PP2/labs/LAB6.ipynb', os.R_OK)) # read\n",
    "print(os.access('/home/zlup/projects/PP2/labs/LAB6.ipynb', os.W_OK)) # write\n",
    "print(os.access('/home/zlup/projects/PP2/labs/LAB6.ipynb', os.X_OK)) # executability"
   ]
  },
  {
   "cell_type": "code",
   "execution_count": 42,
   "id": "a149ef19-f075-4b36-8fef-e48d06a4e279",
   "metadata": {},
   "outputs": [
    {
     "name": "stdout",
     "output_type": "stream",
     "text": [
      "/home/zlup/projects/PP2/labs\n",
      "LAB6.ipynb\n"
     ]
    }
   ],
   "source": [
    "path = \"/home/zlup/projects/PP2/labs/LAB6.ipynb\"\n",
    "if os.path.exists(path):\n",
    "    print(os.path.dirname(path))  # dir\n",
    "    print(os.path.basename(path))  # file"
   ]
  },
  {
   "cell_type": "code",
   "execution_count": 45,
   "id": "bd3e8eaf-bffa-49fe-9b14-0600420cf34a",
   "metadata": {},
   "outputs": [
    {
     "name": "stdout",
     "output_type": "stream",
     "text": [
      "5\n"
     ]
    }
   ],
   "source": [
    "num = 0\n",
    "with open(\"lab6/textfile.txt\", \"r\") as file:\n",
    "    for line in file:\n",
    "        num+=1\n",
    "\n",
    "print(num)"
   ]
  },
  {
   "cell_type": "code",
   "execution_count": 46,
   "id": "6f6092a0-ad1d-41e5-9265-bc9571c9b836",
   "metadata": {},
   "outputs": [],
   "source": [
    "l = ['abs', 'bds', 'dsfds']\n",
    "with open(\"lab6/textfile2.txt\", \"a\") as file:\n",
    "    for text in l:\n",
    "        file.write(text + '\\n')"
   ]
  },
  {
   "cell_type": "code",
   "execution_count": 51,
   "id": "53d409ad-fef7-4330-986a-df32a3e28457",
   "metadata": {},
   "outputs": [],
   "source": [
    "for i in range(65, 91):\n",
    "    if not os.path.exists(f\"lab6/{chr(i)}.txt\"):\n",
    "        open(f\"lab6/{chr(i)}.txt\", 'x')"
   ]
  },
  {
   "cell_type": "code",
   "execution_count": 54,
   "id": "ce3d33e3-f629-4b05-be5a-037f4d055405",
   "metadata": {},
   "outputs": [],
   "source": [
    "with open(\"lab6/textfile.txt\", \"r\") as file:\n",
    "    data = file.read()\n",
    "\n",
    "with open(\"lab6/textfile2.txt\", \"w\") as file:\n",
    "    file.write(data)"
   ]
  },
  {
   "cell_type": "code",
   "execution_count": 55,
   "id": "1021e890-1cb9-4d69-9ed7-2f019d588aaf",
   "metadata": {},
   "outputs": [],
   "source": [
    "if os.path.exists('lab6/A.txt'):\n",
    "    if os.access('lab6/A.txt', os.W_OK):\n",
    "        os.remove('lab6/A.txt')"
   ]
  },
  {
   "cell_type": "markdown",
   "id": "5a8ef5cd-3983-4d8c-a5fa-4348ddb89892",
   "metadata": {},
   "source": [
    "# Python builtin functions"
   ]
  },
  {
   "cell_type": "code",
   "execution_count": 57,
   "id": "790d0484-e11c-49b0-aa62-94183836eabf",
   "metadata": {},
   "outputs": [
    {
     "data": {
      "text/plain": [
       "24"
      ]
     },
     "execution_count": 57,
     "metadata": {},
     "output_type": "execute_result"
    }
   ],
   "source": [
    "import math\n",
    "l = [1, 2, 3, 4]\n",
    "math.prod(l)"
   ]
  },
  {
   "cell_type": "code",
   "execution_count": 61,
   "id": "10ce020b-c422-4eb8-9a3f-c9a8fc028319",
   "metadata": {},
   "outputs": [
    {
     "name": "stdout",
     "output_type": "stream",
     "text": [
      "3 5\n"
     ]
    }
   ],
   "source": [
    "s = \"JfdjsbSD\"\n",
    "upper = sum(1 for i in s if i.isupper())\n",
    "lower = sum(1 for i in s if i.islower())\n",
    "print(upper, lower)"
   ]
  },
  {
   "cell_type": "code",
   "execution_count": 70,
   "id": "aea526a9-1694-482b-b6a1-930352869575",
   "metadata": {},
   "outputs": [
    {
     "name": "stdout",
     "output_type": "stream",
     "text": [
      "YES\n"
     ]
    }
   ],
   "source": [
    "s = \"abba\"\n",
    "print(\"YES\") if s.lower() == s.lower()[::-1] else print(\"NO\")"
   ]
  },
  {
   "cell_type": "code",
   "execution_count": 75,
   "id": "bb374fb0-2b38-47c0-bbc5-e20887d6658b",
   "metadata": {},
   "outputs": [
    {
     "name": "stdout",
     "output_type": "stream",
     "text": [
      "Square root of 25100 after 2123 miliseconds is 158.42979517754858\n"
     ]
    }
   ],
   "source": [
    "from time import sleep\n",
    "num = 25100\n",
    "milisec = 2123\n",
    "sleep(milisec/1000)\n",
    "print(f\"Square root of {num} after {milisec} miliseconds is {math.sqrt(num)}\")"
   ]
  },
  {
   "cell_type": "code",
   "execution_count": 77,
   "id": "8b43d6fc-7520-44e0-a7c1-f853422043dd",
   "metadata": {},
   "outputs": [
    {
     "data": {
      "text/plain": [
       "True"
      ]
     },
     "execution_count": 77,
     "metadata": {},
     "output_type": "execute_result"
    }
   ],
   "source": [
    "tup = (True, 1, 1, 'dfs')\n",
    "all(tup)"
   ]
  },
  {
   "cell_type": "code",
   "execution_count": null,
   "id": "ea4e16bc-ec6a-49a0-b5f6-3f6ba16bb555",
   "metadata": {},
   "outputs": [],
   "source": []
  }
 ],
 "metadata": {
  "kernelspec": {
   "display_name": "Python 3 (ipykernel)",
   "language": "python",
   "name": "python3"
  },
  "language_info": {
   "codemirror_mode": {
    "name": "ipython",
    "version": 3
   },
   "file_extension": ".py",
   "mimetype": "text/x-python",
   "name": "python",
   "nbconvert_exporter": "python",
   "pygments_lexer": "ipython3",
   "version": "3.13.1"
  }
 },
 "nbformat": 4,
 "nbformat_minor": 5
}
